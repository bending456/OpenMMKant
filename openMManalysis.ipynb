{
  "nbformat": 4,
  "nbformat_minor": 0,
  "metadata": {
    "colab": {
      "name": "openMManalysis",
      "provenance": []
    },
    "kernelspec": {
      "name": "python3",
      "display_name": "Python 3"
    },
    "language_info": {
      "name": "python"
    }
  },
  "cells": [
    {
      "cell_type": "markdown",
      "source": [
        "Notebook for processing runs from openmm/particle simulator\n",
        "\n",
        "Had trouble getting pytraj to build on local computers, so the first step is a laborious one of opening the notebook on colab, uploading the files, and doing the initial computation of rmsd values "
      ],
      "metadata": {
        "id": "LiVlw0HOk45H"
      }
    },
    {
      "cell_type": "code",
      "source": [
        "! pip install pytraj"
      ],
      "metadata": {
        "colab": {
          "base_uri": "https://localhost:8080/"
        },
        "id": "a4b7SdXt0HzA",
        "outputId": "7c16d37f-4076-4e8c-9baa-ec98406c9911"
      },
      "execution_count": 2,
      "outputs": [
        {
          "output_type": "stream",
          "name": "stdout",
          "text": [
            "Collecting pytraj\n",
            "  Downloading pytraj-2.0.5-cp37-cp37m-manylinux1_x86_64.whl (16.1 MB)\n",
            "\u001b[K     |████████████████████████████████| 16.1 MB 6.5 MB/s \n",
            "\u001b[?25hRequirement already satisfied: numpy in /usr/local/lib/python3.7/dist-packages (from pytraj) (1.21.5)\n",
            "Installing collected packages: pytraj\n",
            "Successfully installed pytraj-2.0.5\n"
          ]
        }
      ]
    },
    {
      "cell_type": "code",
      "source": [
        "import pytraj as pt\n",
        "import matplotlib.pyplot as plt\n",
        "import numpy as np\n"
      ],
      "metadata": {
        "id": "saIq1TnU1_vC"
      },
      "execution_count": 18,
      "outputs": []
    },
    {
      "cell_type": "code",
      "source": [
        "from matplotlib import path\n",
        "class empty:pass\n",
        "\n",
        "\n",
        "# stores data\n",
        "cases = dict()\n",
        "\n",
        "pathRatios = [0.5,0.8,1]\n",
        "#caseNames = ['test1','test2','test3']\n",
        "iters = 5\n",
        "base = \"pathwidth\"\n",
        "equilFrame = 400\n",
        "\n",
        "pathRatio = pathRatios[0]\n",
        "\n",
        "\n",
        "slopes = []\n",
        "for pathRatio in pathRatios:\n",
        "  for iter in range(iters):\n",
        "\n",
        "    caseName = base + \"_%3.1f_%d\"%(pathRatio,iter)\n",
        "    print(caseName)\n",
        "  \n",
        "    # load\n",
        "    traj = pt.iterload(caseName+\".dcd\", caseName+\".pdb\")\n",
        "\n",
        "    # get rmsd \n",
        "    rmsdAll = pt.rmsd(traj, mask='@RC', ref=0)\n",
        "    rmsd = rmsdAll[equilFrame:]\n",
        "    tEnd = np.shape(rmsd)[0] \n",
        "    dt = 1.\n",
        "    ts = np.arange(tEnd) * dt\n",
        "    \n",
        "    # fit for D \n",
        "    #slope,intercept= np.polyfit(ts, ts*iter, 1)\n",
        "    slope,intercept= np.polyfit(ts, rmsd, 1)\n",
        "    slopes.append(slope)\n",
        "    #print(slope)\n",
        "    #plt.plot(rmsd)\n",
        "    #plt.plot(ts,ts*slope+intercept)\n",
        "    # \n",
        "\n",
        "  # x**2 = 4*D*t\n",
        "  #      = slope * t ==> D = slope/4.\n",
        "  Ds =  np.asarray( slopes )/4.\n",
        "\n",
        "  case = empty()\n",
        "  case.Dmean = np.mean( Ds )\n",
        "  case.Dstd = np.std( Ds)\n",
        "\n",
        "  cases[pathRatio] = case\n",
        "\n"
      ],
      "metadata": {
        "colab": {
          "base_uri": "https://localhost:8080/"
        },
        "id": "rD9Fn4OhlCmq",
        "outputId": "c53f7d02-ede0-45b5-d2b3-57773f7c4040"
      },
      "execution_count": 36,
      "outputs": [
        {
          "output_type": "stream",
          "name": "stdout",
          "text": [
            "pathwidth_0.5_0\n",
            "pathwidth_0.5_1\n",
            "pathwidth_0.5_2\n",
            "pathwidth_0.5_3\n",
            "pathwidth_0.5_4\n",
            "pathwidth_0.8_0\n",
            "pathwidth_0.8_1\n",
            "pathwidth_0.8_2\n",
            "pathwidth_0.8_3\n",
            "pathwidth_0.8_4\n",
            "pathwidth_1.0_0\n",
            "pathwidth_1.0_1\n",
            "pathwidth_1.0_2\n",
            "pathwidth_1.0_3\n",
            "pathwidth_1.0_4\n"
          ]
        }
      ]
    },
    {
      "cell_type": "code",
      "source": [
        "\n",
        "Ds = []\n",
        "DsErr = []\n",
        "inds = range( len( pathRatios ) )\n",
        "for pathRatio in pathRatios:\n",
        "  case = cases[pathRatio]\n",
        "  Ds.append(case.Dmean)\n",
        "  DsErr.append(case.Dstd)\n",
        "  \n",
        "# normalize by fastest Ds (widest)\n",
        "nDs = np.array( Ds ) / Ds[-1]\n",
        "nPRs = np.array( pathRatios ) / pathRatios[-1]\n",
        "\n",
        "print(Ds)\n",
        "#plt.bar(inds,Ds) \n",
        "#print(nDs)\n",
        "plt.plot(nPRs,nDs,'k.',label=\"Sims\")\n",
        "plt.plot(nPRs,nDs,'k')\n",
        "plt.plot(nPRs,nPRs,'r.',label=\"Analytic\")\n",
        "\n"
      ],
      "metadata": {
        "colab": {
          "base_uri": "https://localhost:8080/",
          "height": 300
        },
        "id": "M1YQuJOeqWYg",
        "outputId": "5b834f35-c875-4f07-8542-d9c22473a8a3"
      },
      "execution_count": 51,
      "outputs": [
        {
          "output_type": "stream",
          "name": "stdout",
          "text": [
            "[0.00014317291602721283, 0.00016077295450262765, 0.00016991743651641322]\n"
          ]
        },
        {
          "output_type": "execute_result",
          "data": {
            "text/plain": [
              "[<matplotlib.lines.Line2D at 0x7f83f1abde90>]"
            ]
          },
          "metadata": {},
          "execution_count": 51
        },
        {
          "output_type": "display_data",
          "data": {
            "text/plain": [
              "<Figure size 432x288 with 1 Axes>"
            ],
            "image/png": "[encoded data removed]"
          },
          "metadata": {
            "needs_background": "light"
          }
        }
      ]
    },
    {
      "cell_type": "code",
      "source": [
        ""
      ],
      "metadata": {
        "id": "_ngghyXWl2xe"
      },
      "execution_count": null,
      "outputs": []
    }
  ]
}