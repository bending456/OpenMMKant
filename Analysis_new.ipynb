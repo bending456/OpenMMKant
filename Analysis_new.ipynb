{
 "cells": [
  {
   "cell_type": "code",
   "execution_count": 1,
   "id": "0d731b7e-febe-48c5-9d5b-c31774de09e0",
   "metadata": {},
   "outputs": [
    {
     "name": "stdout",
     "output_type": "stream",
     "text": [
      "['/home/bchun/Ben-Code/Modeling-Codes/Codes/OpenMM_Migration/repo/OpenMM/Transition1', '/home/bchun/anaconda3/lib/python39.zip', '/home/bchun/anaconda3/lib/python3.9', '/home/bchun/anaconda3/lib/python3.9/lib-dynload', '', '/home/bchun/anaconda3/lib/python3.9/site-packages', '/home/bchun/anaconda3/lib/python3.9/site-packages/locket-0.2.1-py3.9.egg', '/home/bchun/anaconda3/lib/python3.9/site-packages/IPython/extensions', '/home/bchun/.ipython', '/home/bchun/Ben-Code/Modeling-Codes/Codes/OpenMM_Migration/repo/OpenMM/pyscript']\n"
     ]
    }
   ],
   "source": [
    "import yaml\n",
    "import numpy as np \n",
    "import matplotlib.pyplot as plt\n",
    "from scipy.stats import sem\n",
    "import analysis_script as anas\n",
    "from sklearn.linear_model import LinearRegression\n",
    "from scipy import stats\n",
    "%load_ext autoreload\n",
    "%autoreload 2"
   ]
  },
  {
   "cell_type": "code",
   "execution_count": 32,
   "id": "c433d4e8-2b22-43ca-b215-804789a35cc3",
   "metadata": {},
   "outputs": [],
   "source": [
    "data1 = anas.dataextractor3('test1.csv')\n",
    "data2 = anas.dataextractor3('test2.csv')\n",
    "data3 = anas.dataextractor3('test3.csv')\n",
    "data4 = anas.dataextractor3('test4.csv')\n",
    "data5 = anas.dataextractor3('test5.csv')\n",
    "data6 = anas.dataextractor3('test6.csv')\n",
    "data7 = anas.dataextractor3('test7.csv')\n",
    "data8 = anas.dataextractor3('test8.csv')\n",
    "data9 = anas.dataextractor3('test9.csv')\n",
    "data10 = anas.dataextractor3('test10.csv')\n",
    "\n",
    "avgmsd1 = anas.avgrmsd(data1)\n",
    "avgmsd2 = anas.avgrmsd(data2)\n",
    "avgmsd3 = anas.avgrmsd(data3)\n",
    "avgmsd4 = anas.avgrmsd(data4)\n",
    "avgmsd5 = anas.avgrmsd(data5)\n",
    "avgmsd6 = anas.avgrmsd(data6)\n",
    "avgmsd7 = anas.avgrmsd(data7)\n",
    "avgmsd8 = anas.avgrmsd(data8)\n",
    "avgmsd9 = anas.avgrmsd(data9)\n",
    "avgmsd10 = anas.avgrmsd(data10)\n"
   ]
  },
  {
   "cell_type": "code",
   "execution_count": null,
   "id": "7b43e358-3415-4401-a119-05cbb7cab861",
   "metadata": {},
   "outputs": [],
   "source": [
    "# Sigma is the parameter from LJ 12-6 eqn \n",
    "sigma = 0.8\n",
    "# R of BV2 = 5-7 um so 6 um is chosen \n",
    "# Reff = 2^(1/6) * sigma \n",
    "# Factor = R_BV2 / Reff\n",
    "Factor = 6/(2**(1/6)*sigma)\n",
    "\n",
    "avglow = (np.asarray(avgmsd1)\n",
    "          +np.asarray(avgmsd3)\n",
    "          +np.asarray(avgmsd5)\n",
    "          +np.asarray(avgmsd7)\n",
    "          +np.asarray(avgmsd9))*Factor\n",
    "avgmid = (np.asarray(avgmsd2)\n",
    "          +np.asarray(avgmsd4)\n",
    "          +np.asarray(avgmsd6)\n",
    "          +np.asarray(avgmsd8)\n",
    "          +np.asarray(avgmsd10))*Factor\n",
    "\n",
    "y1 = avglow#[0:10000]\n",
    "y2 = avgmid#[0:10000]\n",
    "timemodel = np.arange(len(list(data1.keys())))\n",
    "xm = timemodel*20\n",
    "\n",
    "\n",
    "res1m = stats.linregress(xm,y1)\n",
    "print(\"R-squared: \", res1m.rvalue**2)\n",
    "print(\"Slope: \",res1m.slope)\n",
    "print(\"Intercept: \",res1m.intercept)\n",
    "\n",
    "res2m = stats.linregress(xm,y2)\n",
    "print(\"R-squared: \", res2m.rvalue**2)\n",
    "print(\"Slope: \",res2m.slope)\n",
    "print(\"Intercept: \",res2m.intercept)"
   ]
  },
  {
   "cell_type": "code",
   "execution_count": null,
   "id": "eb0613df-427e-49d6-b9d8-f470019e30c7",
   "metadata": {},
   "outputs": [],
   "source": [
    "plt.figure(figsize=(6,4),dpi=150)\n",
    "plt.tick_params(direction='in')\n",
    "\n",
    "plt.plot(timemodel*20,avglow,'k:',alpha=0.5,lw=1.5,label='ATP=0 uM')\n",
    "plt.plot(timemodel*20,avgmid,'r:',alpha=0.5,lw=1.5,label='ATP=500 uM')\n",
    "\n",
    "D1 = '%.5f'%(res1m.slope/4)\n",
    "D2 = '%.5f'%(res2m.slope/4)\n",
    "\n",
    "plt.plot(xm,res1m.intercept + res1m.slope*xm,'k',label=str('%.3f'%(res1m.slope))+\"x+\"+str('%.3f'%(res1m.intercept))+' D='+str(D1))\n",
    "plt.plot(xm,res2m.intercept + res2m.slope*xm,'r',label=str('%.3f'%(res2m.slope))+\"x+\"+str('%.3f'%(res2m.intercept))+' D='+str(D2))\n",
    "plt.legend(loc=0)\n",
    "plt.xlabel('Time [sec]')\n",
    "plt.ylabel('MSD [um**2]')\n",
    "plt.tight_layout()"
   ]
  },
  {
   "cell_type": "code",
   "execution_count": null,
   "id": "55b19f11-15f3-4df6-8be0-d8f5eb3c65c3",
   "metadata": {},
   "outputs": [],
   "source": []
  }
 ],
 "metadata": {
  "kernelspec": {
   "display_name": "Python 3",
   "language": "python",
   "name": "python3"
  },
  "language_info": {
   "codemirror_mode": {
    "name": "ipython",
    "version": 3
   },
   "file_extension": ".py",
   "mimetype": "text/x-python",
   "name": "python",
   "nbconvert_exporter": "python",
   "pygments_lexer": "ipython3",
   "version": "3.9.7"
  }
 },
 "nbformat": 4,
 "nbformat_minor": 5
}
